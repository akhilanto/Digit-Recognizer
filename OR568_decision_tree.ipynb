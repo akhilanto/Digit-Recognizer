{
 "cells": [
  {
   "cell_type": "markdown",
   "metadata": {},
   "source": [
    "#### Code for the Decision Tree Model "
   ]
  },
  {
   "cell_type": "code",
   "execution_count": 1,
   "metadata": {},
   "outputs": [],
   "source": [
    "%matplotlib inline\n",
    "import pandas as pd\n",
    "import numpy as np\n",
    "import seaborn as sns"
   ]
  },
  {
   "cell_type": "markdown",
   "metadata": {},
   "source": [
    "#### Importing Data "
   ]
  },
  {
   "cell_type": "code",
   "execution_count": 2,
   "metadata": {},
   "outputs": [],
   "source": [
    "validation_data = pd.read_csv(\"Test_Zero _Var.csv\")\n",
    "train_data = pd.read_csv(\"Train_Zero _Var.csv\")"
   ]
  },
  {
   "cell_type": "code",
   "execution_count": 3,
   "metadata": {},
   "outputs": [
    {
     "data": {
      "text/plain": [
       "labels\n",
       "0    4132\n",
       "1    4684\n",
       "2    4177\n",
       "3    4351\n",
       "4    4072\n",
       "5    3795\n",
       "6    4137\n",
       "7    4401\n",
       "8    4063\n",
       "9    4188\n",
       "dtype: int64"
      ]
     },
     "execution_count": 3,
     "metadata": {},
     "output_type": "execute_result"
    }
   ],
   "source": [
    "train_data.groupby('labels').size()"
   ]
  },
  {
   "cell_type": "markdown",
   "metadata": {},
   "source": [
    "#### Data samples creation"
   ]
  },
  {
   "cell_type": "code",
   "execution_count": 5,
   "metadata": {},
   "outputs": [],
   "source": [
    "response_data = train_data['labels']\n",
    "predictor_data = train_data.drop(['labels'], axis=1)"
   ]
  },
  {
   "cell_type": "code",
   "execution_count": 6,
   "metadata": {},
   "outputs": [],
   "source": [
    "from sklearn.model_selection import train_test_split  # Random sampling with seed(randomstate)\n",
    "r_predictor_train, r_predictor_test, r_response_train, r_response_test = train_test_split(predictor_data, response_data, random_state=1084203)"
   ]
  },
  {
   "cell_type": "code",
   "execution_count": 7,
   "metadata": {},
   "outputs": [],
   "source": [
    "sample_sets = {'train_predictor':r_predictor_train, 'train_response':r_response_train, 'test_predictor':r_predictor_test, 'test_response':r_response_test}"
   ]
  },
  {
   "cell_type": "markdown",
   "metadata": {},
   "source": [
    "#### Model Creation  And Prediction for Decision Tree"
   ]
  },
  {
   "cell_type": "code",
   "execution_count": 8,
   "metadata": {},
   "outputs": [],
   "source": [
    "from sklearn import tree"
   ]
  },
  {
   "cell_type": "code",
   "execution_count": 9,
   "metadata": {},
   "outputs": [],
   "source": [
    "clf = tree.DecisionTreeClassifier()"
   ]
  },
  {
   "cell_type": "code",
   "execution_count": 10,
   "metadata": {},
   "outputs": [],
   "source": [
    "clf = clf.fit(r_predictor_train, r_response_train)"
   ]
  },
  {
   "cell_type": "code",
   "execution_count": 11,
   "metadata": {},
   "outputs": [],
   "source": [
    "predicted_tree= clf.predict(r_predictor_test)"
   ]
  },
  {
   "cell_type": "markdown",
   "metadata": {},
   "source": [
    "#### Evaluation of the model "
   ]
  },
  {
   "cell_type": "code",
   "execution_count": 12,
   "metadata": {},
   "outputs": [],
   "source": [
    "from sklearn import metrics"
   ]
  },
  {
   "cell_type": "code",
   "execution_count": 13,
   "metadata": {},
   "outputs": [
    {
     "name": "stdout",
     "output_type": "stream",
     "text": [
      "Confusion Matrix \n",
      " [[ 922    2   15    7    3   20   21    9   12   14]\n",
      " [   4 1094   22   10    4    6    8    7    8    7]\n",
      " [  19   22  829   32   17   18   18   46   29   15]\n",
      " [   6   12   37  876    6   53    9   19   39   34]\n",
      " [   3   10   13   12  916    9   14   14   29   57]\n",
      " [   8   10   14   65   12  766   20    9   30   23]\n",
      " [  16    4   18   10    7   43  931    4   18    6]\n",
      " [   2    4   22   18   11    9    2  963    9   24]\n",
      " [  15   20   36   46   22   51   17   11  746   33]\n",
      " [   5    8   12   16   66   22    7   40   24  817]]\n"
     ]
    }
   ],
   "source": [
    "print(\"Confusion Matrix \\n\",metrics.confusion_matrix(r_response_test, predicted_tree))"
   ]
  },
  {
   "cell_type": "code",
   "execution_count": 14,
   "metadata": {},
   "outputs": [
    {
     "name": "stdout",
     "output_type": "stream",
     "text": [
      "             precision    recall  f1-score   support\n",
      "\n",
      "          0       0.92      0.90      0.91      1025\n",
      "          1       0.92      0.94      0.93      1170\n",
      "          2       0.81      0.79      0.80      1045\n",
      "          3       0.80      0.80      0.80      1091\n",
      "          4       0.86      0.85      0.86      1077\n",
      "          5       0.77      0.80      0.78       957\n",
      "          6       0.89      0.88      0.88      1057\n",
      "          7       0.86      0.91      0.88      1064\n",
      "          8       0.79      0.75      0.77       997\n",
      "          9       0.79      0.80      0.80      1017\n",
      "\n",
      "avg / total       0.84      0.84      0.84     10500\n",
      "\n"
     ]
    }
   ],
   "source": [
    "print(metrics.classification_report(r_response_test, predicted_tree))"
   ]
  },
  {
   "cell_type": "code",
   "execution_count": 15,
   "metadata": {},
   "outputs": [],
   "source": [
    "from sklearn.metrics import accuracy_score"
   ]
  },
  {
   "cell_type": "code",
   "execution_count": 16,
   "metadata": {},
   "outputs": [
    {
     "data": {
      "text/plain": [
       "0.8438095238095238"
      ]
     },
     "execution_count": 16,
     "metadata": {},
     "output_type": "execute_result"
    }
   ],
   "source": [
    "accuracy_score(r_response_test, predicted_tree)"
   ]
  },
  {
   "cell_type": "code",
   "execution_count": 17,
   "metadata": {},
   "outputs": [],
   "source": [
    "from sklearn.metrics import cohen_kappa_score"
   ]
  },
  {
   "cell_type": "code",
   "execution_count": 18,
   "metadata": {},
   "outputs": [
    {
     "data": {
      "text/plain": [
       "0.8263989982516504"
      ]
     },
     "execution_count": 18,
     "metadata": {},
     "output_type": "execute_result"
    }
   ],
   "source": [
    "cohen_kappa_score(r_response_test, predicted_tree) #Scores above .8 are generally considered good agreement"
   ]
  },
  {
   "cell_type": "code",
   "execution_count": 19,
   "metadata": {},
   "outputs": [],
   "source": [
    "from sklearn.metrics import roc_curve\n",
    "fpr, tpr, auc_thresholds = roc_curve(r_response_test, predicted_tree,pos_label=9)"
   ]
  },
  {
   "cell_type": "code",
   "execution_count": 20,
   "metadata": {},
   "outputs": [],
   "source": [
    "def plot_roc_curve(fpr, tpr, label=9):\n",
    "    plt.figure(figsize=(8,8))\n",
    "    plt.title('ROC Curve')\n",
    "    plt.plot(fpr, tpr, linewidth=2, label=label)\n",
    "    plt.plot([0, 1], [0, 1], 'k--')\n",
    "    plt.axis([-0.005, 1, 0, 1.005])\n",
    "    plt.xticks(np.arange(0,1, 0.05), rotation=90)\n",
    "    plt.xlabel(\"False Positive Rate\")\n",
    "    plt.ylabel(\"True Positive Rate (Recall)\")\n",
    "    plt.legend(loc='best')"
   ]
  },
  {
   "cell_type": "code",
   "execution_count": 21,
   "metadata": {},
   "outputs": [
    {
     "name": "stdout",
     "output_type": "stream",
     "text": [
      "Area Under the Curve  0.9102284261511906\n"
     ]
    },
    {
     "data": {
      "image/png": "[encoded data removed]",
      "text/plain": [
       "<Figure size 576x576 with 1 Axes>"
      ]
     },
     "metadata": {},
     "output_type": "display_data"
    }
   ],
   "source": [
    "from sklearn.metrics import auc\n",
    "import matplotlib.pyplot as plt\n",
    "print(\"Area Under the Curve \", auc(fpr, tpr)) # AUC of ROC\n",
    "plot_roc_curve(fpr, tpr, 'recall_optimized')"
   ]
  },
  {
   "cell_type": "code",
   "execution_count": 22,
   "metadata": {},
   "outputs": [
    {
     "name": "stdout",
     "output_type": "stream",
     "text": [
      "[7 1 6 ... 4 2 5]\n"
     ]
    }
   ],
   "source": [
    "print(predicted_tree)"
   ]
  },
  {
   "cell_type": "code",
   "execution_count": 23,
   "metadata": {},
   "outputs": [
    {
     "name": "stdout",
     "output_type": "stream",
     "text": [
      "31570    7\n",
      "22469    1\n",
      "7808     6\n",
      "15113    6\n",
      "41855    2\n",
      "31561    1\n",
      "19651    0\n",
      "7940     2\n",
      "6508     6\n",
      "26146    0\n",
      "4772     2\n",
      "528      8\n",
      "1500     1\n",
      "40283    8\n",
      "6782     2\n",
      "14614    8\n",
      "5176     2\n",
      "9862     5\n",
      "32194    4\n",
      "34622    7\n",
      "12635    0\n",
      "4005     0\n",
      "18828    0\n",
      "33288    6\n",
      "38427    4\n",
      "10296    6\n",
      "14366    9\n",
      "31849    5\n",
      "11802    3\n",
      "40799    7\n",
      "        ..\n",
      "22810    4\n",
      "34347    0\n",
      "39631    0\n",
      "30504    3\n",
      "33740    7\n",
      "8118     5\n",
      "2623     9\n",
      "12834    8\n",
      "24951    4\n",
      "20020    4\n",
      "12209    3\n",
      "29103    4\n",
      "16368    9\n",
      "23443    0\n",
      "13245    7\n",
      "2039     3\n",
      "32588    5\n",
      "21225    7\n",
      "12884    7\n",
      "36113    0\n",
      "35170    9\n",
      "27397    1\n",
      "797      0\n",
      "30463    4\n",
      "8396     0\n",
      "34096    1\n",
      "19552    2\n",
      "23590    4\n",
      "27505    2\n",
      "17785    5\n",
      "Name: labels, Length: 10500, dtype: int64\n"
     ]
    }
   ],
   "source": [
    "print(r_response_test)"
   ]
  },
  {
   "cell_type": "markdown",
   "metadata": {},
   "source": [
    "#### Predciton using Valdation Data and used for Kaggle Accuracy"
   ]
  },
  {
   "cell_type": "code",
   "execution_count": 37,
   "metadata": {},
   "outputs": [],
   "source": [
    "predicted_on_vali_tree=clf.predict(validation_data)"
   ]
  },
  {
   "cell_type": "code",
   "execution_count": 40,
   "metadata": {},
   "outputs": [],
   "source": [
    "output = pd.DataFrame(predicted_on_vali_tree, columns =['Label'])"
   ]
  },
  {
   "cell_type": "code",
   "execution_count": 41,
   "metadata": {},
   "outputs": [],
   "source": [
    "output.reset_index(inplace=True)\n",
    "output.rename(columns={'index': 'ImageId'}, inplace=True)\n",
    "output['ImageId']=output['ImageId']+1\n",
    "output.to_csv('output_tree.csv', index=False)"
   ]
  }
 ],
 "metadata": {
  "kernelspec": {
   "display_name": "Python 3",
   "language": "python",
   "name": "python3"
  },
  "language_info": {
   "codemirror_mode": {
    "name": "ipython",
    "version": 3
   },
   "file_extension": ".py",
   "mimetype": "text/x-python",
   "name": "python",
   "nbconvert_exporter": "python",
   "pygments_lexer": "ipython3",
   "version": "3.6.5"
  }
 },
 "nbformat": 4,
 "nbformat_minor": 2
}
